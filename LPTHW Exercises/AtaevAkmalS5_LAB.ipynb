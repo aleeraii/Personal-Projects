{
 "cells": [
  {
   "cell_type": "markdown",
   "metadata": {},
   "source": [
    "<h1 style=\"text-align:center;\">Akmal Ataev</h1>\n",
    "<h5 style=\"text-align:center;font-size:20px;\">NYU Student ID aa44</h5>\n",
    "<h4 style=\"font-size:25px;text-align:center;\">LAB</h4>"
   ]
  },
  {
   "cell_type": "markdown",
   "metadata": {},
   "source": [
    "<h3>Question 1</h3>"
   ]
  },
  {
   "cell_type": "code",
   "execution_count": 1,
   "metadata": {},
   "outputs": [
    {
     "name": "stdout",
     "output_type": "stream",
     "text": [
      "Enter Distance in kilometers: 16\n",
      "Distance in Miles is:  9.9424\n"
     ]
    }
   ],
   "source": [
    "d = float(input(\"Enter Distance in kilometers: \"))\n",
    "miles = d*0.6214\n",
    "print(\"Distance in Miles is: \",miles)"
   ]
  },
  {
   "cell_type": "markdown",
   "metadata": {},
   "source": [
    "<h3>Question 2</h3>"
   ]
  },
  {
   "cell_type": "code",
   "execution_count": 2,
   "metadata": {},
   "outputs": [
    {
     "name": "stdout",
     "output_type": "stream",
     "text": [
      "74\n",
      "96\n"
     ]
    }
   ],
   "source": [
    "def find(li,n):\n",
    "    for i in li:\n",
    "        if i>n:\n",
    "            print(i)\n",
    "\n",
    "find([45,74,12,48,35,2,14,96], 51)"
   ]
  },
  {
   "cell_type": "markdown",
   "metadata": {},
   "source": [
    "<h3>Question 3</h3>"
   ]
  },
  {
   "cell_type": "code",
   "execution_count": 3,
   "metadata": {},
   "outputs": [
    {
     "name": "stdout",
     "output_type": "stream",
     "text": [
      "{'line', '2', 'I', '1', 'am', '3'}\n"
     ]
    }
   ],
   "source": [
    "file = open('data/sample.txt')\n",
    "data = file.read()\n",
    "data2 = data.split()\n",
    "print(set(data2))"
   ]
  },
  {
   "cell_type": "code",
   "execution_count": null,
   "metadata": {},
   "outputs": [],
   "source": []
  }
 ],
 "metadata": {
  "kernelspec": {
   "display_name": "Python 3",
   "language": "python",
   "name": "python3"
  },
  "language_info": {
   "codemirror_mode": {
    "name": "ipython",
    "version": 3
   },
   "file_extension": ".py",
   "mimetype": "text/x-python",
   "name": "python",
   "nbconvert_exporter": "python",
   "pygments_lexer": "ipython3",
   "version": "3.8.3"
  }
 },
 "nbformat": 4,
 "nbformat_minor": 4
}
